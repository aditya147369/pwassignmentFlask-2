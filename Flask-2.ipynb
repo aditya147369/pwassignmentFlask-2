{
 "cells": [
  {
   "cell_type": "markdown",
   "id": "39c5ee31-f800-4799-9aaa-fc5dc47b641e",
   "metadata": {},
   "source": [
    "Q1. Explain GET and POST methods."
   ]
  },
  {
   "cell_type": "markdown",
   "id": "e8af59cd-2313-49a6-9ad1-1dc21e8427c3",
   "metadata": {},
   "source": [
    "Ans - 1] GET: The GET method is the most common method used to retrieve information from a web server. When you type a URL into your web browser, you are sending a GET request to the server at that URL. The server then responds with the requested information, such as a web page, an image, or a file. GET requests are safe, meaning that they do not modify the state of the server, and they are idempotent, meaning that they can be repeated multiple times without causing any side effects. However, GET requests are limited in the amount of data that they can send. Data is appended to the URL as query parameters, which has a maximum length that varies depending on the web server and browser.\n",
    "\n",
    "2] POST: The POST method is used to submit data to a web server. This data can be anything from a simple form submission to a complex file upload. When you submit a form on a website, your browser sends a POST request to the server. The server then processes the data and responds accordingly. POST requests are not safe, meaning that they can modify the state of the server, and they are not idempotent, meaning that repeating a POST request can have different results each time. However, POST requests can send a much larger amount of data than GET requests. The data is sent in the body of the request, which is not subject to the same length limitations as the URL."
   ]
  },
  {
   "cell_type": "markdown",
   "id": "c2a7933d-8bed-4ed3-a312-2de25dd2b302",
   "metadata": {},
   "source": [
    "Q2. Why is request used in Flask?"
   ]
  },
  {
   "cell_type": "markdown",
   "id": "996269cb-30f3-4290-993c-6137379ca749",
   "metadata": {},
   "source": [
    "Ans - In Flask, the request object serves as a bridge between the client (web browser or other applications) and the server. It encapsulates all the information sent by the client, including form data, query parameters, headers, cookies, and uploaded files. This object is essential for Flask applications because it allows you to access and process incoming data, making it possible to dynamically generate responses based on user input or other requests. In essence, the request object provides the context for your Flask application to understand and respond to incoming requests, enabling dynamic interactions between the client and server."
   ]
  },
  {
   "cell_type": "markdown",
   "id": "00120bf4-8be1-4da4-92c5-51cccb2904fb",
   "metadata": {},
   "source": [
    "Q3. Why is redirect() used in Flask?"
   ]
  },
  {
   "cell_type": "markdown",
   "id": "1e806d39-c878-42e7-a856-649d4519c0c0",
   "metadata": {},
   "source": [
    "Ans - In Flask, the redirect() function is used to guide the client (usually a web browser) to a different URL than the one originally requested. This is fundamental for controlling the flow of your web application. It's employed in various scenarios, like after a successful form submission (to prevent duplicate submissions), when access is restricted (to send users to login pages), or to implement custom error handling (directing to error pages). Essentially, redirect() allows you to seamlessly navigate users within your application or to external websites, ensuring a smooth and intuitive user experience."
   ]
  },
  {
   "cell_type": "markdown",
   "id": "67248049-c554-4d2f-881a-67f4ce2ffa83",
   "metadata": {},
   "source": [
    "Q4. What are templates in Flask? Why is the render_template() function used?"
   ]
  },
  {
   "cell_type": "markdown",
   "id": "ff353b37-a2ea-4179-a662-d9503851755d",
   "metadata": {},
   "source": [
    "Ans - Templates in Flask are essentially blueprints for the structure and content of your web pages. They are typically written in HTML and can include placeholders for dynamic data that will be filled in by your Python code. This data can be anything from simple text to complex objects.\n",
    "\n",
    "The render_template() function is a key component of Flask's templating engine. It takes the name of a template file and any necessary data as input. The function then processes the template, replacing the placeholders with the corresponding data, and returns the fully rendered HTML page."
   ]
  },
  {
   "cell_type": "markdown",
   "id": "acbb4cf7-a3d3-4b0c-a04c-83a9a901ec8c",
   "metadata": {},
   "source": [
    "Q5. Create a simple API. Use Postman to test it. Attach the screenshot of the output in the Jupyter Notebook."
   ]
  },
  {
   "cell_type": "code",
   "execution_count": 1,
   "id": "a14d17e3-9368-4d0d-bc93-376939c38256",
   "metadata": {},
   "outputs": [
    {
     "name": "stdout",
     "output_type": "stream",
     "text": [
      "Requirement already satisfied: flask in /opt/conda/lib/python3.10/site-packages (3.0.3)\n",
      "Requirement already satisfied: itsdangerous>=2.1.2 in /opt/conda/lib/python3.10/site-packages (from flask) (2.2.0)\n",
      "Requirement already satisfied: Jinja2>=3.1.2 in /opt/conda/lib/python3.10/site-packages (from flask) (3.1.2)\n",
      "Requirement already satisfied: Werkzeug>=3.0.0 in /opt/conda/lib/python3.10/site-packages (from flask) (3.0.3)\n",
      "Requirement already satisfied: click>=8.1.3 in /opt/conda/lib/python3.10/site-packages (from flask) (8.1.3)\n",
      "Requirement already satisfied: blinker>=1.6.2 in /opt/conda/lib/python3.10/site-packages (from flask) (1.8.2)\n",
      "Requirement already satisfied: MarkupSafe>=2.0 in /opt/conda/lib/python3.10/site-packages (from Jinja2>=3.1.2->flask) (2.1.1)\n",
      "Note: you may need to restart the kernel to use updated packages.\n"
     ]
    }
   ],
   "source": [
    "pip install flask"
   ]
  },
  {
   "cell_type": "code",
   "execution_count": 3,
   "id": "bcd7b2a5-0a79-476a-a24c-acdff0e32176",
   "metadata": {},
   "outputs": [
    {
     "name": "stdout",
     "output_type": "stream",
     "text": [
      " * Serving Flask app '__main__'\n",
      " * Debug mode: off\n"
     ]
    },
    {
     "name": "stderr",
     "output_type": "stream",
     "text": [
      "WARNING: This is a development server. Do not use it in a production deployment. Use a production WSGI server instead.\n",
      " * Running on http://127.0.0.1:5000\n",
      "Press CTRL+C to quit\n"
     ]
    }
   ],
   "source": [
    "from flask import Flask, jsonify, request\n",
    "\n",
    "app = Flask(__name__)\n",
    "\n",
    "# Define a sample data list\n",
    "data = [\n",
    "    {\"id\": 1, \"name\": \"John\"},\n",
    "    {\"id\": 2, \"name\": \"Alice\"},\n",
    "    {\"id\": 3, \"name\": \"Bob\"}\n",
    "]\n",
    "\n",
    "# Define a GET endpoint to retrieve all data\n",
    "@app.route('/api/data', methods=['GET'])\n",
    "def get_data():\n",
    "    return jsonify(data)\n",
    "\n",
    "# Define a POST endpoint to add new data\n",
    "@app.route('/api/data', methods=['POST'])\n",
    "def add_data():\n",
    "    new_data = request.get_json()\n",
    "    data.append(new_data)\n",
    "    return jsonify({\"message\": \"Data added successfully\"})\n",
    "\n",
    "if __name__ == '__main__':\n",
    "    app.run()"
   ]
  },
  {
   "cell_type": "code",
   "execution_count": null,
   "id": "68d4ce9c-154d-4615-8de6-791fd39cc102",
   "metadata": {},
   "outputs": [],
   "source": []
  },
  {
   "cell_type": "code",
   "execution_count": null,
   "id": "9c0691b7-3559-437a-a8fc-757111513dbd",
   "metadata": {},
   "outputs": [],
   "source": []
  },
  {
   "cell_type": "code",
   "execution_count": null,
   "id": "0a666720-1192-4f1c-abd4-daa25b56b039",
   "metadata": {},
   "outputs": [],
   "source": []
  }
 ],
 "metadata": {
  "kernelspec": {
   "display_name": "Python 3 (ipykernel)",
   "language": "python",
   "name": "python3"
  },
  "language_info": {
   "codemirror_mode": {
    "name": "ipython",
    "version": 3
   },
   "file_extension": ".py",
   "mimetype": "text/x-python",
   "name": "python",
   "nbconvert_exporter": "python",
   "pygments_lexer": "ipython3",
   "version": "3.10.8"
  }
 },
 "nbformat": 4,
 "nbformat_minor": 5
}
